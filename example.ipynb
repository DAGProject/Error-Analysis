{
 "cells": [
  {
   "cell_type": "code",
   "execution_count": 1,
   "metadata": {},
   "outputs": [],
   "source": [
    "#Imports\n",
    "from MyErr import err\n",
    "from numpy import array as ar"
   ]
  },
  {
   "cell_type": "code",
   "execution_count": 2,
   "metadata": {},
   "outputs": [],
   "source": [
    "#Trigonometric Functions\n",
    "trigo = err.Trigo(verb=True)\n",
    "#Mınor Functions (addition and substraction etc)\n",
    "minor = err.Minor(verb=True)\n",
    "#Major Functions (mean, stdv etc)\n",
    "major = err.Major(verb=True)\n",
    "#Constants (Pi, Euler's number etc)\n",
    "const = err.Constant(verb=True)"
   ]
  },
  {
   "cell_type": "code",
   "execution_count": 3,
   "metadata": {},
   "outputs": [],
   "source": [
    "#3 numbers with errors\n",
    "a = ar([[30, 0.01],[5, 0.05], [10, 0.8], [25, 0.1]])\n",
    "#A number with error\n",
    "b = ar([2, 0.07])\n",
    "#A number with error\n",
    "c = ar([5, 0.17])\n",
    "#A number without error\n",
    "num = 2\n",
    "#An angle with error\n",
    "deg = [30, 0.2]\n",
    "#An angle(rad) with error\n",
    "rad = trigo.deg2rad([60, 0.2])"
   ]
  },
  {
   "cell_type": "code",
   "execution_count": 4,
   "metadata": {},
   "outputs": [
    {
     "name": "stdout",
     "output_type": "stream",
     "text": [
      "sin(rad) = [0.86602013 0.00174533]\n",
      "cos(deg) = [0.86602716 0.00174531]\n",
      "tan(rad) = [-3.87881558  0.16827651]\n",
      "cot(deg) = [1.73206488 0.00436331]\n",
      "rad2deg(rad) = [60.   0.2]\n",
      "deg2rad(deg) = [0.52359878 0.00349066]\n"
     ]
    }
   ],
   "source": [
    "#TRIGONOMETRY\n",
    "print(\"sin(rad) = {}\".format(trigo.sin(rad)))\n",
    "print(\"cos(deg) = {}\".format(trigo.cos(deg, degree=True)))\n",
    "print(\"tan(rad) = {}\".format(trigo.tan(deg, degree=False)))\n",
    "print(\"cot(deg) = {}\".format(trigo.cot(deg, degree=True)))\n",
    "print(\"rad2deg(rad) = {}\".format(trigo.rad2deg(rad)))\n",
    "print(\"deg2rad(deg) = {}\".format(trigo.deg2rad(deg)))"
   ]
  },
  {
   "cell_type": "code",
   "execution_count": 5,
   "metadata": {},
   "outputs": [
    {
     "name": "stdout",
     "output_type": "stream",
     "text": [
      "b + c = [7.         0.18384776]\n",
      "a * c = [[150.           5.10024509]\n",
      " [ 25.           0.88600226]\n",
      " [ 50.           4.34626276]\n",
      " [125.           4.27931069]]\n",
      "b^num = [4.   0.28]\n",
      "log(b) = [0.30103 0.01519]\n",
      "ln(c) = [1.60943791 0.034     ]\n"
     ]
    }
   ],
   "source": [
    "#CALCULATIONS minor\n",
    "print(\"b + c = {}\".format(minor.sum(b, c)))\n",
    "print(\"a * c = {}\".format(minor.ar_multiply(a, c)))\n",
    "print(\"b^num = {}\".format(minor.power(b, num)))\n",
    "print(\"log(b) = {}\".format(minor.log10(b)))\n",
    "print(\"ln(c) = {}\".format(minor.log(c)))"
   ]
  },
  {
   "cell_type": "code",
   "execution_count": 6,
   "metadata": {},
   "outputs": [
    {
     "name": "stdout",
     "output_type": "stream",
     "text": [
      "mean(a) = [17.5         0.20195915]\n",
      "stdv(a) = [10.30776406  0.1787266 ]\n"
     ]
    }
   ],
   "source": [
    "#CALCULATIONS major\n",
    "print(\"mean(a) = {}\".format(major.mean(a)))\n",
    "print(\"stdv(a) = {}\".format(major.stdv(a)))"
   ]
  },
  {
   "cell_type": "code",
   "execution_count": 7,
   "metadata": {},
   "outputs": [
    {
     "name": "stdout",
     "output_type": "stream",
     "text": [
      "pi() = [3.14159265e+00 1.00000000e-09]\n",
      "e() = [2.71828182e+00 1.00000000e-09]\n",
      "one80() = [180   0]\n"
     ]
    }
   ],
   "source": [
    "#CONSTANTS\n",
    "print(\"pi() = {}\".format(const.pi()))\n",
    "print(\"e() = {}\".format(const.e()))\n",
    "print(\"one80() = {}\".format(const.one80()))"
   ]
  },
  {
   "cell_type": "code",
   "execution_count": null,
   "metadata": {},
   "outputs": [],
   "source": []
  }
 ],
 "metadata": {
  "kernelspec": {
   "display_name": "Python 3",
   "language": "python",
   "name": "python3"
  },
  "language_info": {
   "codemirror_mode": {
    "name": "ipython",
    "version": 3
   },
   "file_extension": ".py",
   "mimetype": "text/x-python",
   "name": "python",
   "nbconvert_exporter": "python",
   "pygments_lexer": "ipython3",
   "version": "3.7.6"
  }
 },
 "nbformat": 4,
 "nbformat_minor": 4
}
